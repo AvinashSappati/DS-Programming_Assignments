{
 "cells": [
  {
   "cell_type": "markdown",
   "id": "7f01325f-dd2a-4e47-a150-bf0256ba4a54",
   "metadata": {},
   "source": [
    "# Problem :\n",
    " ## Compare the speed of a library function for matrix multiplication to your own implementation of the nested loops  algorithm.\n"
   ]
  },
  {
   "cell_type": "markdown",
   "id": "577a0ba3-d9c6-48e4-bced-83ac617d2cbd",
   "metadata": {},
   "source": [
    "   ##     PART 1 \n",
    "   ###    >  How much faster is the library on products of random n×n matricies, as a function of n as n gets large?"
   ]
  },
  {
   "cell_type": "code",
   "execution_count": 4,
   "id": "26621e16-0b82-47a3-b329-7f19af580e11",
   "metadata": {},
   "outputs": [],
   "source": [
    "import numpy as np \n",
    "import pandas as pd\n",
    "import matplotlib.pyplot as plt\n",
    "import time "
   ]
  },
  {
   "cell_type": "code",
   "execution_count": 5,
   "id": "791c499e-a5e7-4650-bd8c-0a9004f76a34",
   "metadata": {},
   "outputs": [],
   "source": [
    "#Defining a function for matrix multiplication\n",
    "def nested_loop_matmul(A, B):\n",
    "    n = A.shape[0] #number of rows of A\n",
    "    m = A.shape[1] #number of columns of A\n",
    "    p = B.shape[1] #number of columns of B \n",
    "    # C matrix initialized as zero matrix with ( n x p ) dimension.\n",
    "    C = np.zeros((n, p)) \n",
    "    for i in range(n): \n",
    "        for j in range(p) : \n",
    "            for k in range(m): \n",
    "                C[i][j] += A[i][k] * B[k][j] #CAUTION : accessing elements of B in Column-Major format\n",
    "    return C"
   ]
  },
  {
   "cell_type": "code",
   "execution_count": 6,
   "id": "8ec8449d-c0b6-4117-9512-2206a8af9fec",
   "metadata": {},
   "outputs": [],
   "source": [
    "time_for_Loops = []\n",
    "time_for_Numpy = []"
   ]
  },
  {
   "cell_type": "code",
   "execution_count": 7,
   "id": "12ad22c9-665c-451b-9d7f-df819fa7f9e4",
   "metadata": {},
   "outputs": [],
   "source": [
    "for n in range(10,101,10):\n",
    "    A = np.random.rand(n,n)\n",
    "    B = np.random.rand(n,n)\n",
    "    st_time = time.time()\n",
    "    C = nested_loop_matmul(A,B)#defined function \n",
    "    end_time = time.time()\n",
    "    exec_time = end_time - st_time\n",
    "    time_for_Loops.append(exec_time)\n",
    "    st1_time = time.time()\n",
    "    C = np.matmul(A,B)#Numpy library function \n",
    "    end1_time = time.time()\n",
    "    exec1_time = end1_time - st1_time\n",
    "    time_for_Numpy.append(exec1_time)\n",
    "    "
   ]
  },
  {
   "cell_type": "code",
   "execution_count": 8,
   "id": "5d77372f-ecc2-4768-9d57-a4813d7a778b",
   "metadata": {},
   "outputs": [
    {
     "data": {
      "text/plain": [
       "[0.0008599758148193359,\n",
       " 0.010185003280639648,\n",
       " 0.03991818428039551,\n",
       " 0.1000056266784668,\n",
       " 0.26348447799682617,\n",
       " 0.3735337257385254,\n",
       " 0.6961712837219238,\n",
       " 1.0986685752868652,\n",
       " 1.4207303524017334,\n",
       " 1.7188479900360107]"
      ]
     },
     "execution_count": 8,
     "metadata": {},
     "output_type": "execute_result"
    }
   ],
   "source": [
    "time_for_Loops"
   ]
  },
  {
   "cell_type": "code",
   "execution_count": 9,
   "id": "8b97ce2e-fbb4-4a2f-b255-4c0bc4128ee5",
   "metadata": {},
   "outputs": [
    {
     "data": {
      "text/plain": [
       "[0.11934256553649902,\n",
       " 0.0,\n",
       " 0.0,\n",
       " 0.0,\n",
       " 0.00815725326538086,\n",
       " 0.0,\n",
       " 0.0,\n",
       " 0.0,\n",
       " 0.0,\n",
       " 0.0]"
      ]
     },
     "execution_count": 9,
     "metadata": {},
     "output_type": "execute_result"
    }
   ],
   "source": [
    "time_for_Numpy"
   ]
  },
  {
   "cell_type": "code",
   "execution_count": 10,
   "id": "e4d0b0c5-5396-468d-b43b-112e21b2ce7b",
   "metadata": {},
   "outputs": [
    {
     "data": {
      "text/html": [
       "<div>\n",
       "<style scoped>\n",
       "    .dataframe tbody tr th:only-of-type {\n",
       "        vertical-align: middle;\n",
       "    }\n",
       "\n",
       "    .dataframe tbody tr th {\n",
       "        vertical-align: top;\n",
       "    }\n",
       "\n",
       "    .dataframe thead th {\n",
       "        text-align: right;\n",
       "    }\n",
       "</style>\n",
       "<table border=\"1\" class=\"dataframe\">\n",
       "  <thead>\n",
       "    <tr style=\"text-align: right;\">\n",
       "      <th></th>\n",
       "      <th>Matrix dimension(n)</th>\n",
       "      <th>Time taken by nested loops(in sec)</th>\n",
       "      <th>Time taken by Numpy arrays(in sec)</th>\n",
       "      <th>Difference(Loops-Numpy time)</th>\n",
       "    </tr>\n",
       "  </thead>\n",
       "  <tbody>\n",
       "    <tr>\n",
       "      <th>0</th>\n",
       "      <td>10</td>\n",
       "      <td>0.000860</td>\n",
       "      <td>0.119343</td>\n",
       "      <td>-0.118483</td>\n",
       "    </tr>\n",
       "    <tr>\n",
       "      <th>1</th>\n",
       "      <td>20</td>\n",
       "      <td>0.010185</td>\n",
       "      <td>0.000000</td>\n",
       "      <td>0.010185</td>\n",
       "    </tr>\n",
       "    <tr>\n",
       "      <th>2</th>\n",
       "      <td>30</td>\n",
       "      <td>0.039918</td>\n",
       "      <td>0.000000</td>\n",
       "      <td>0.039918</td>\n",
       "    </tr>\n",
       "    <tr>\n",
       "      <th>3</th>\n",
       "      <td>40</td>\n",
       "      <td>0.100006</td>\n",
       "      <td>0.000000</td>\n",
       "      <td>0.100006</td>\n",
       "    </tr>\n",
       "    <tr>\n",
       "      <th>4</th>\n",
       "      <td>50</td>\n",
       "      <td>0.263484</td>\n",
       "      <td>0.008157</td>\n",
       "      <td>0.255327</td>\n",
       "    </tr>\n",
       "    <tr>\n",
       "      <th>5</th>\n",
       "      <td>60</td>\n",
       "      <td>0.373534</td>\n",
       "      <td>0.000000</td>\n",
       "      <td>0.373534</td>\n",
       "    </tr>\n",
       "    <tr>\n",
       "      <th>6</th>\n",
       "      <td>70</td>\n",
       "      <td>0.696171</td>\n",
       "      <td>0.000000</td>\n",
       "      <td>0.696171</td>\n",
       "    </tr>\n",
       "    <tr>\n",
       "      <th>7</th>\n",
       "      <td>80</td>\n",
       "      <td>1.098669</td>\n",
       "      <td>0.000000</td>\n",
       "      <td>1.098669</td>\n",
       "    </tr>\n",
       "    <tr>\n",
       "      <th>8</th>\n",
       "      <td>90</td>\n",
       "      <td>1.420730</td>\n",
       "      <td>0.000000</td>\n",
       "      <td>1.420730</td>\n",
       "    </tr>\n",
       "    <tr>\n",
       "      <th>9</th>\n",
       "      <td>100</td>\n",
       "      <td>1.718848</td>\n",
       "      <td>0.000000</td>\n",
       "      <td>1.718848</td>\n",
       "    </tr>\n",
       "  </tbody>\n",
       "</table>\n",
       "</div>"
      ],
      "text/plain": [
       "   Matrix dimension(n)  Time taken by nested loops(in sec)  \\\n",
       "0                   10                            0.000860   \n",
       "1                   20                            0.010185   \n",
       "2                   30                            0.039918   \n",
       "3                   40                            0.100006   \n",
       "4                   50                            0.263484   \n",
       "5                   60                            0.373534   \n",
       "6                   70                            0.696171   \n",
       "7                   80                            1.098669   \n",
       "8                   90                            1.420730   \n",
       "9                  100                            1.718848   \n",
       "\n",
       "   Time taken by Numpy arrays(in sec)  Difference(Loops-Numpy time)  \n",
       "0                            0.119343                     -0.118483  \n",
       "1                            0.000000                      0.010185  \n",
       "2                            0.000000                      0.039918  \n",
       "3                            0.000000                      0.100006  \n",
       "4                            0.008157                      0.255327  \n",
       "5                            0.000000                      0.373534  \n",
       "6                            0.000000                      0.696171  \n",
       "7                            0.000000                      1.098669  \n",
       "8                            0.000000                      1.420730  \n",
       "9                            0.000000                      1.718848  "
      ]
     },
     "execution_count": 10,
     "metadata": {},
     "output_type": "execute_result"
    }
   ],
   "source": [
    "data = {'Matrix dimension(n)' : range(10,101,10),\n",
    "        'Time taken by nested loops(in sec)': time_for_Loops,\n",
    "        'Time taken by Numpy arrays(in sec)': time_for_Numpy,\n",
    "        'Difference(Loops-Numpy time)': [time_for_Loops[i] - time_for_Numpy[i] for i in range(len(time_for_Loops))]}\n",
    "\n",
    "df = pd.DataFrame(data)\n",
    "df"
   ]
  },
  {
   "cell_type": "code",
   "execution_count": 11,
   "id": "a19c23a6-fd7a-4ca6-89ff-76e791598893",
   "metadata": {},
   "outputs": [
    {
     "data": {
      "image/png": "[encoded data removed]",
      "text/plain": [
       "<Figure size 640x480 with 1 Axes>"
      ]
     },
     "metadata": {},
     "output_type": "display_data"
    }
   ],
   "source": [
    "plt.plot(range(10, 101, 10),time_for_Loops , marker='o',markerfacecolor='Black',label=\"Nested loops time\")\n",
    "plt.plot(range(10, 101, 10),time_for_Numpy , marker='x',markerfacecolor='Black',color='Red',label=\"Numpy arrays time\")\n",
    "plt.xticks(range(10,101,10))\n",
    "plt.xlabel('Matrix Size (n)')\n",
    "plt.ylabel('Execution Time (seconds)')\n",
    "plt.title('Execution Time of Nested Loop Matrix Multiplication')\n",
    "plt.legend(loc=\"upper left\")\n",
    "plt.grid(True)\n",
    "plt.show()"
   ]
  },
  {
   "cell_type": "markdown",
   "id": "4317679b-4560-4bb1-bcbc-e3ee740d4292",
   "metadata": {},
   "source": [
    "### Result 1 :\n",
    "    From the above data and plot, \n",
    "        It is clearly visible that the time taken by the loops to perform matrix multiplication is more than that of numpy library function."
   ]
  },
  {
   "cell_type": "markdown",
   "id": "ff46e18f-492f-4bea-935b-da1632edd0c3",
   "metadata": {},
   "source": [
    "## PART 2\n",
    "### > What about the product of an n×m and m×n matrix, where n << m? ( Here , I let m = 400 )\n",
    "    "
   ]
  },
  {
   "cell_type": "code",
   "execution_count": 14,
   "id": "0a51f670-57eb-4934-80f9-7c0ece736ffa",
   "metadata": {},
   "outputs": [],
   "source": [
    "time_for_AB_Prod_nested = []\n",
    "time_for_AB_Prod_Numpy  = []"
   ]
  },
  {
   "cell_type": "code",
   "execution_count": 15,
   "id": "2807327d-1ee4-4585-a88e-fa5512815466",
   "metadata": {},
   "outputs": [],
   "source": [
    "m = 400\n",
    "#I'm taking n from [21,30],which was very less than m(i.e..,400 here)\n",
    "for n in range(21,31):\n",
    "    A = np.random.rand(n,m)\n",
    "    B = np.random.rand(m,n)\n",
    "    st_time = time.time()\n",
    "    C = nested_loop_matmul(A,B)#nested-loop function\n",
    "    end_time = time.time()\n",
    "    exec_time = end_time - st_time\n",
    "    time_for_AB_Prod_nested.append(exec_time)\n",
    "    st1_time = time.time()\n",
    "    C = np.matmul(A,B)#Numpy library function \n",
    "    end1_time = time.time()\n",
    "    exec1_time = end1_time - st1_time\n",
    "    time_for_AB_Prod_Numpy.append(exec1_time)\n",
    "    "
   ]
  },
  {
   "cell_type": "code",
   "execution_count": 16,
   "id": "18d668e9-bb52-4142-b6fc-6a4e59002ca9",
   "metadata": {},
   "outputs": [
    {
     "data": {
      "text/plain": [
       "[0.33635854721069336,\n",
       " 0.3302726745605469,\n",
       " 0.3687093257904053,\n",
       " 0.39025020599365234,\n",
       " 0.46196937561035156,\n",
       " 0.5374319553375244,\n",
       " 0.5653009414672852,\n",
       " 0.6448819637298584,\n",
       " 0.6289551258087158,\n",
       " 0.7509596347808838]"
      ]
     },
     "execution_count": 16,
     "metadata": {},
     "output_type": "execute_result"
    }
   ],
   "source": [
    "time_for_AB_Prod_nested"
   ]
  },
  {
   "cell_type": "code",
   "execution_count": 17,
   "id": "f439d6cc-b24c-4b0d-b96b-cff80a9b6752",
   "metadata": {},
   "outputs": [
    {
     "data": {
      "text/plain": [
       "[0.012177228927612305,\n",
       " 0.0,\n",
       " 0.0,\n",
       " 0.0,\n",
       " 0.020566225051879883,\n",
       " 0.0,\n",
       " 0.0,\n",
       " 0.0,\n",
       " 0.0010898113250732422,\n",
       " 0.0]"
      ]
     },
     "execution_count": 17,
     "metadata": {},
     "output_type": "execute_result"
    }
   ],
   "source": [
    "time_for_AB_Prod_Numpy"
   ]
  },
  {
   "cell_type": "code",
   "execution_count": 18,
   "id": "f15f7ab6-11c9-4b11-af32-a11d20101fa2",
   "metadata": {},
   "outputs": [
    {
     "data": {
      "text/html": [
       "<div>\n",
       "<style scoped>\n",
       "    .dataframe tbody tr th:only-of-type {\n",
       "        vertical-align: middle;\n",
       "    }\n",
       "\n",
       "    .dataframe tbody tr th {\n",
       "        vertical-align: top;\n",
       "    }\n",
       "\n",
       "    .dataframe thead th {\n",
       "        text-align: right;\n",
       "    }\n",
       "</style>\n",
       "<table border=\"1\" class=\"dataframe\">\n",
       "  <thead>\n",
       "    <tr style=\"text-align: right;\">\n",
       "      <th></th>\n",
       "      <th>Matrix dimension(n)</th>\n",
       "      <th>Time taken by A x B Product nested (in sec)</th>\n",
       "      <th>Time taken by A x B Product Numpy (in sec)</th>\n",
       "      <th>Difference( nested - Numpy )</th>\n",
       "    </tr>\n",
       "  </thead>\n",
       "  <tbody>\n",
       "    <tr>\n",
       "      <th>0</th>\n",
       "      <td>21</td>\n",
       "      <td>0.336359</td>\n",
       "      <td>0.012177</td>\n",
       "      <td>0.324181</td>\n",
       "    </tr>\n",
       "    <tr>\n",
       "      <th>1</th>\n",
       "      <td>22</td>\n",
       "      <td>0.330273</td>\n",
       "      <td>0.000000</td>\n",
       "      <td>0.330273</td>\n",
       "    </tr>\n",
       "    <tr>\n",
       "      <th>2</th>\n",
       "      <td>23</td>\n",
       "      <td>0.368709</td>\n",
       "      <td>0.000000</td>\n",
       "      <td>0.368709</td>\n",
       "    </tr>\n",
       "    <tr>\n",
       "      <th>3</th>\n",
       "      <td>24</td>\n",
       "      <td>0.390250</td>\n",
       "      <td>0.000000</td>\n",
       "      <td>0.390250</td>\n",
       "    </tr>\n",
       "    <tr>\n",
       "      <th>4</th>\n",
       "      <td>25</td>\n",
       "      <td>0.461969</td>\n",
       "      <td>0.020566</td>\n",
       "      <td>0.441403</td>\n",
       "    </tr>\n",
       "    <tr>\n",
       "      <th>5</th>\n",
       "      <td>26</td>\n",
       "      <td>0.537432</td>\n",
       "      <td>0.000000</td>\n",
       "      <td>0.537432</td>\n",
       "    </tr>\n",
       "    <tr>\n",
       "      <th>6</th>\n",
       "      <td>27</td>\n",
       "      <td>0.565301</td>\n",
       "      <td>0.000000</td>\n",
       "      <td>0.565301</td>\n",
       "    </tr>\n",
       "    <tr>\n",
       "      <th>7</th>\n",
       "      <td>28</td>\n",
       "      <td>0.644882</td>\n",
       "      <td>0.000000</td>\n",
       "      <td>0.644882</td>\n",
       "    </tr>\n",
       "    <tr>\n",
       "      <th>8</th>\n",
       "      <td>29</td>\n",
       "      <td>0.628955</td>\n",
       "      <td>0.001090</td>\n",
       "      <td>0.627865</td>\n",
       "    </tr>\n",
       "    <tr>\n",
       "      <th>9</th>\n",
       "      <td>30</td>\n",
       "      <td>0.750960</td>\n",
       "      <td>0.000000</td>\n",
       "      <td>0.750960</td>\n",
       "    </tr>\n",
       "  </tbody>\n",
       "</table>\n",
       "</div>"
      ],
      "text/plain": [
       "   Matrix dimension(n)  Time taken by A x B Product nested (in sec)  \\\n",
       "0                   21                                     0.336359   \n",
       "1                   22                                     0.330273   \n",
       "2                   23                                     0.368709   \n",
       "3                   24                                     0.390250   \n",
       "4                   25                                     0.461969   \n",
       "5                   26                                     0.537432   \n",
       "6                   27                                     0.565301   \n",
       "7                   28                                     0.644882   \n",
       "8                   29                                     0.628955   \n",
       "9                   30                                     0.750960   \n",
       "\n",
       "   Time taken by A x B Product Numpy (in sec)  Difference( nested - Numpy )   \n",
       "0                                    0.012177                       0.324181  \n",
       "1                                    0.000000                       0.330273  \n",
       "2                                    0.000000                       0.368709  \n",
       "3                                    0.000000                       0.390250  \n",
       "4                                    0.020566                       0.441403  \n",
       "5                                    0.000000                       0.537432  \n",
       "6                                    0.000000                       0.565301  \n",
       "7                                    0.000000                       0.644882  \n",
       "8                                    0.001090                       0.627865  \n",
       "9                                    0.000000                       0.750960  "
      ]
     },
     "execution_count": 18,
     "metadata": {},
     "output_type": "execute_result"
    }
   ],
   "source": [
    "data = {'Matrix dimension(n)' : range(21,31),\n",
    "        'Time taken by A x B Product nested (in sec)': time_for_AB_Prod_nested,\n",
    "       'Time taken by A x B Product Numpy (in sec)': time_for_AB_Prod_Numpy,\n",
    "       'Difference( nested - Numpy ) ' : [time_for_AB_Prod_nested[i] - time_for_AB_Prod_Numpy[i] for i in range(len(time_for_AB_Prod_nested))]}\n",
    "\n",
    "df = pd.DataFrame(data)\n",
    "df"
   ]
  },
  {
   "cell_type": "markdown",
   "id": "eff599ae-2bb4-408b-9dc4-882b1e12f621",
   "metadata": {
    "jp-MarkdownHeadingCollapsed": true
   },
   "source": [
    "### Result 2 : \n",
    "    From the above data , it is clearly visible that as 'n' increases from 21 to 30 the time required for A x B product is also increasing and it is noted that time taken by nested loops is more than that of numpy library function."
   ]
  },
  {
   "cell_type": "markdown",
   "id": "5c7a7ae8-cf13-43a5-b21e-f4ef3579bcfe",
   "metadata": {},
   "source": [
    "## PART 3 \n",
    "### >  By how much do you improve the performance of your implementation to :\n",
    "Calculate  C = A · B by first transposing B internally, so all dot products\n",
    "are computed along rows of the matrices to improve cache performance?"
   ]
  },
  {
   "cell_type": "markdown",
   "id": "7230effc-7175-4005-8214-26618f73d13b",
   "metadata": {},
   "source": [
    "## 1) For square matrices ( A and B of n x n )"
   ]
  },
  {
   "cell_type": "code",
   "execution_count": 22,
   "id": "485c81cd-9aa6-444c-8d8b-7c220b8de289",
   "metadata": {},
   "outputs": [],
   "source": [
    "time_for_AB_Prod = []\n",
    "time_for_AB_transpose_Prod = []"
   ]
  },
  {
   "cell_type": "code",
   "execution_count": 23,
   "id": "231e8b9d-4652-48a0-aea3-cdcf13d1815d",
   "metadata": {},
   "outputs": [],
   "source": [
    "for n in range(10,101,10):\n",
    "    A = np.random.rand(n,n)\n",
    "    B = np.random.rand(n,n)\n",
    "    C = np.zeros((n,n))\n",
    "    st_time = time.time()\n",
    "    C = nested_loop_matmul(A,B) #accessing B elements in the function is in column-major format \n",
    "    end_time = time.time()\n",
    "    exec_time = end_time - st_time\n",
    "    time_for_AB_Prod.append(exec_time)\n",
    "    B_T = np.transpose(B)\n",
    "    st1_time = time.time()\n",
    "    # dot product internally(i.e., accessing B elements in row-major format indirectly )\n",
    "    for i in range(n):\n",
    "        for j in range(n):\n",
    "            C[i][j] = A[i].dot(B_T[j])\n",
    "    end1_time = time.time()\n",
    "    exec1_time = end1_time - st1_time\n",
    "    time_for_AB_transpose_Prod.append(exec1_time)"
   ]
  },
  {
   "cell_type": "code",
   "execution_count": 24,
   "id": "1191e61c-e443-416a-80bc-8c36e6760ba2",
   "metadata": {},
   "outputs": [
    {
     "data": {
      "text/plain": [
       "[0.001800537109375,\n",
       " 0.012888431549072266,\n",
       " 0.04721832275390625,\n",
       " 0.10884499549865723,\n",
       " 0.23480653762817383,\n",
       " 0.43877458572387695,\n",
       " 0.6606090068817139,\n",
       " 1.048642873764038,\n",
       " 1.3252344131469727,\n",
       " 1.8870112895965576]"
      ]
     },
     "execution_count": 24,
     "metadata": {},
     "output_type": "execute_result"
    }
   ],
   "source": [
    "time_for_AB_Prod"
   ]
  },
  {
   "cell_type": "code",
   "execution_count": 25,
   "id": "ab941fb5-81fc-4cf5-b4ed-d42abfb1dbdc",
   "metadata": {},
   "outputs": [
    {
     "data": {
      "text/plain": [
       "[0.0010504722595214844,\n",
       " 0.0,\n",
       " 0.00164794921875,\n",
       " 0.005291461944580078,\n",
       " 0.010042428970336914,\n",
       " 0.011569738388061523,\n",
       " 0.019214868545532227,\n",
       " 0.02496027946472168,\n",
       " 0.04072380065917969,\n",
       " 0.04041719436645508]"
      ]
     },
     "execution_count": 25,
     "metadata": {},
     "output_type": "execute_result"
    }
   ],
   "source": [
    "time_for_AB_transpose_Prod"
   ]
  },
  {
   "cell_type": "code",
   "execution_count": 26,
   "id": "408bbf58-74a2-490d-87e4-11c7ececa4e2",
   "metadata": {},
   "outputs": [
    {
     "data": {
      "text/html": [
       "<div>\n",
       "<style scoped>\n",
       "    .dataframe tbody tr th:only-of-type {\n",
       "        vertical-align: middle;\n",
       "    }\n",
       "\n",
       "    .dataframe tbody tr th {\n",
       "        vertical-align: top;\n",
       "    }\n",
       "\n",
       "    .dataframe thead th {\n",
       "        text-align: right;\n",
       "    }\n",
       "</style>\n",
       "<table border=\"1\" class=\"dataframe\">\n",
       "  <thead>\n",
       "    <tr style=\"text-align: right;\">\n",
       "      <th></th>\n",
       "      <th>Matrix dimension(n)</th>\n",
       "      <th>Time taken by A . B (in sec)</th>\n",
       "      <th>Time taken by A . B_T (in sec)</th>\n",
       "      <th>Difference(A . B  - A . B_T )</th>\n",
       "    </tr>\n",
       "  </thead>\n",
       "  <tbody>\n",
       "    <tr>\n",
       "      <th>0</th>\n",
       "      <td>10</td>\n",
       "      <td>0.001801</td>\n",
       "      <td>0.001050</td>\n",
       "      <td>0.000750</td>\n",
       "    </tr>\n",
       "    <tr>\n",
       "      <th>1</th>\n",
       "      <td>20</td>\n",
       "      <td>0.012888</td>\n",
       "      <td>0.000000</td>\n",
       "      <td>0.012888</td>\n",
       "    </tr>\n",
       "    <tr>\n",
       "      <th>2</th>\n",
       "      <td>30</td>\n",
       "      <td>0.047218</td>\n",
       "      <td>0.001648</td>\n",
       "      <td>0.045570</td>\n",
       "    </tr>\n",
       "    <tr>\n",
       "      <th>3</th>\n",
       "      <td>40</td>\n",
       "      <td>0.108845</td>\n",
       "      <td>0.005291</td>\n",
       "      <td>0.103554</td>\n",
       "    </tr>\n",
       "    <tr>\n",
       "      <th>4</th>\n",
       "      <td>50</td>\n",
       "      <td>0.234807</td>\n",
       "      <td>0.010042</td>\n",
       "      <td>0.224764</td>\n",
       "    </tr>\n",
       "    <tr>\n",
       "      <th>5</th>\n",
       "      <td>60</td>\n",
       "      <td>0.438775</td>\n",
       "      <td>0.011570</td>\n",
       "      <td>0.427205</td>\n",
       "    </tr>\n",
       "    <tr>\n",
       "      <th>6</th>\n",
       "      <td>70</td>\n",
       "      <td>0.660609</td>\n",
       "      <td>0.019215</td>\n",
       "      <td>0.641394</td>\n",
       "    </tr>\n",
       "    <tr>\n",
       "      <th>7</th>\n",
       "      <td>80</td>\n",
       "      <td>1.048643</td>\n",
       "      <td>0.024960</td>\n",
       "      <td>1.023683</td>\n",
       "    </tr>\n",
       "    <tr>\n",
       "      <th>8</th>\n",
       "      <td>90</td>\n",
       "      <td>1.325234</td>\n",
       "      <td>0.040724</td>\n",
       "      <td>1.284511</td>\n",
       "    </tr>\n",
       "    <tr>\n",
       "      <th>9</th>\n",
       "      <td>100</td>\n",
       "      <td>1.887011</td>\n",
       "      <td>0.040417</td>\n",
       "      <td>1.846594</td>\n",
       "    </tr>\n",
       "  </tbody>\n",
       "</table>\n",
       "</div>"
      ],
      "text/plain": [
       "   Matrix dimension(n)  Time taken by A . B (in sec)  \\\n",
       "0                   10                      0.001801   \n",
       "1                   20                      0.012888   \n",
       "2                   30                      0.047218   \n",
       "3                   40                      0.108845   \n",
       "4                   50                      0.234807   \n",
       "5                   60                      0.438775   \n",
       "6                   70                      0.660609   \n",
       "7                   80                      1.048643   \n",
       "8                   90                      1.325234   \n",
       "9                  100                      1.887011   \n",
       "\n",
       "   Time taken by A . B_T (in sec)  Difference(A . B  - A . B_T )  \n",
       "0                        0.001050                       0.000750  \n",
       "1                        0.000000                       0.012888  \n",
       "2                        0.001648                       0.045570  \n",
       "3                        0.005291                       0.103554  \n",
       "4                        0.010042                       0.224764  \n",
       "5                        0.011570                       0.427205  \n",
       "6                        0.019215                       0.641394  \n",
       "7                        0.024960                       1.023683  \n",
       "8                        0.040724                       1.284511  \n",
       "9                        0.040417                       1.846594  "
      ]
     },
     "execution_count": 26,
     "metadata": {},
     "output_type": "execute_result"
    }
   ],
   "source": [
    "data = {'Matrix dimension(n)' : range(10,101,10),\n",
    "        'Time taken by A . B (in sec)': time_for_AB_Prod,\n",
    "        'Time taken by A . B_T (in sec)': time_for_AB_transpose_Prod,\n",
    "        'Difference(A . B  - A . B_T )': [time_for_AB_Prod[i] - time_for_AB_transpose_Prod[i] for i in range(len(time_for_AB_Prod))]}\n",
    "\n",
    "df = pd.DataFrame(data)\n",
    "df"
   ]
  },
  {
   "cell_type": "markdown",
   "id": "1edd8d39-58e0-4d07-94ef-7cdd8584048f",
   "metadata": {},
   "source": [
    "## 2) For non-square matrices ( A n x m and B m x n ) : ( n << m ) (Here , I let  m = 400 )"
   ]
  },
  {
   "cell_type": "code",
   "execution_count": 28,
   "id": "a9dfbcd6-8955-4218-a912-920e01650ccb",
   "metadata": {},
   "outputs": [],
   "source": [
    "time_for_AB_Prod_1 = []\n",
    "time_for_AB_transpose_Prod_1 = []"
   ]
  },
  {
   "cell_type": "code",
   "execution_count": 29,
   "id": "0e43e3c6-a0db-42de-9486-2e7dece3f564",
   "metadata": {},
   "outputs": [],
   "source": [
    "for n in range(10,101,10):\n",
    "    A = np.random.rand(n,400)\n",
    "    B = np.random.rand(400,n)\n",
    "    C = np.zeros((n,n))\n",
    "    C_1 = np.zeros((n,n))\n",
    "    st_time = time.time()\n",
    "    C = nested_loop_matmul(A,B)#accessing B elements in the function is in column-major format.\n",
    "    end_time = time.time()\n",
    "    exec_time = end_time - st_time\n",
    "    time_for_AB_Prod_1.append(exec_time)\n",
    "    B_T = np.transpose(B)\n",
    "    st1_time = time.time()\n",
    "    # dot product internally(i.e., accessing B elements in row-major format indirectly ).\n",
    "    for i in range(n):\n",
    "        for j in range(n):\n",
    "            C_1[i][j] = A[i].dot(B_T[j])\n",
    "    end1_time = time.time()\n",
    "    exec1_time = end1_time - st1_time\n",
    "    time_for_AB_transpose_Prod_1.append(exec1_time)"
   ]
  },
  {
   "cell_type": "code",
   "execution_count": 30,
   "id": "57a75a2b-8870-4d03-838b-4618fecbc2ee",
   "metadata": {},
   "outputs": [
    {
     "data": {
      "text/plain": [
       "[0.06490349769592285,\n",
       " 0.26881885528564453,\n",
       " 0.6280629634857178,\n",
       " 1.1531760692596436,\n",
       " 1.9467346668243408,\n",
       " 2.9716131687164307,\n",
       " 3.6605842113494873,\n",
       " 4.9248292446136475,\n",
       " 5.450114965438843,\n",
       " 6.909451246261597]"
      ]
     },
     "execution_count": 30,
     "metadata": {},
     "output_type": "execute_result"
    }
   ],
   "source": [
    "time_for_AB_Prod_1"
   ]
  },
  {
   "cell_type": "code",
   "execution_count": 31,
   "id": "d7efb351-190f-4c00-be38-3507d7546d69",
   "metadata": {},
   "outputs": [
    {
     "data": {
      "text/plain": [
       "[0.0,\n",
       " 0.0020105838775634766,\n",
       " 0.009189605712890625,\n",
       " 0.01020050048828125,\n",
       " 0.008562088012695312,\n",
       " 0.01696014404296875,\n",
       " 0.024338483810424805,\n",
       " 0.03541207313537598,\n",
       " 0.04456305503845215,\n",
       " 0.047189950942993164]"
      ]
     },
     "execution_count": 31,
     "metadata": {},
     "output_type": "execute_result"
    }
   ],
   "source": [
    "time_for_AB_transpose_Prod_1"
   ]
  },
  {
   "cell_type": "code",
   "execution_count": 32,
   "id": "7f375a6a-7453-41f2-accb-773410070932",
   "metadata": {},
   "outputs": [
    {
     "data": {
      "text/html": [
       "<div>\n",
       "<style scoped>\n",
       "    .dataframe tbody tr th:only-of-type {\n",
       "        vertical-align: middle;\n",
       "    }\n",
       "\n",
       "    .dataframe tbody tr th {\n",
       "        vertical-align: top;\n",
       "    }\n",
       "\n",
       "    .dataframe thead th {\n",
       "        text-align: right;\n",
       "    }\n",
       "</style>\n",
       "<table border=\"1\" class=\"dataframe\">\n",
       "  <thead>\n",
       "    <tr style=\"text-align: right;\">\n",
       "      <th></th>\n",
       "      <th>Matrix dimension(n)</th>\n",
       "      <th>Time taken by A . B (in sec)</th>\n",
       "      <th>Time taken by A . B_T (in sec)</th>\n",
       "      <th>Difference(A . B  - A . B_T )</th>\n",
       "    </tr>\n",
       "  </thead>\n",
       "  <tbody>\n",
       "    <tr>\n",
       "      <th>0</th>\n",
       "      <td>10</td>\n",
       "      <td>0.064903</td>\n",
       "      <td>0.000000</td>\n",
       "      <td>0.064903</td>\n",
       "    </tr>\n",
       "    <tr>\n",
       "      <th>1</th>\n",
       "      <td>20</td>\n",
       "      <td>0.268819</td>\n",
       "      <td>0.002011</td>\n",
       "      <td>0.266808</td>\n",
       "    </tr>\n",
       "    <tr>\n",
       "      <th>2</th>\n",
       "      <td>30</td>\n",
       "      <td>0.628063</td>\n",
       "      <td>0.009190</td>\n",
       "      <td>0.618873</td>\n",
       "    </tr>\n",
       "    <tr>\n",
       "      <th>3</th>\n",
       "      <td>40</td>\n",
       "      <td>1.153176</td>\n",
       "      <td>0.010201</td>\n",
       "      <td>1.142976</td>\n",
       "    </tr>\n",
       "    <tr>\n",
       "      <th>4</th>\n",
       "      <td>50</td>\n",
       "      <td>1.946735</td>\n",
       "      <td>0.008562</td>\n",
       "      <td>1.938173</td>\n",
       "    </tr>\n",
       "    <tr>\n",
       "      <th>5</th>\n",
       "      <td>60</td>\n",
       "      <td>2.971613</td>\n",
       "      <td>0.016960</td>\n",
       "      <td>2.954653</td>\n",
       "    </tr>\n",
       "    <tr>\n",
       "      <th>6</th>\n",
       "      <td>70</td>\n",
       "      <td>3.660584</td>\n",
       "      <td>0.024338</td>\n",
       "      <td>3.636246</td>\n",
       "    </tr>\n",
       "    <tr>\n",
       "      <th>7</th>\n",
       "      <td>80</td>\n",
       "      <td>4.924829</td>\n",
       "      <td>0.035412</td>\n",
       "      <td>4.889417</td>\n",
       "    </tr>\n",
       "    <tr>\n",
       "      <th>8</th>\n",
       "      <td>90</td>\n",
       "      <td>5.450115</td>\n",
       "      <td>0.044563</td>\n",
       "      <td>5.405552</td>\n",
       "    </tr>\n",
       "    <tr>\n",
       "      <th>9</th>\n",
       "      <td>100</td>\n",
       "      <td>6.909451</td>\n",
       "      <td>0.047190</td>\n",
       "      <td>6.862261</td>\n",
       "    </tr>\n",
       "  </tbody>\n",
       "</table>\n",
       "</div>"
      ],
      "text/plain": [
       "   Matrix dimension(n)  Time taken by A . B (in sec)  \\\n",
       "0                   10                      0.064903   \n",
       "1                   20                      0.268819   \n",
       "2                   30                      0.628063   \n",
       "3                   40                      1.153176   \n",
       "4                   50                      1.946735   \n",
       "5                   60                      2.971613   \n",
       "6                   70                      3.660584   \n",
       "7                   80                      4.924829   \n",
       "8                   90                      5.450115   \n",
       "9                  100                      6.909451   \n",
       "\n",
       "   Time taken by A . B_T (in sec)  Difference(A . B  - A . B_T )  \n",
       "0                        0.000000                       0.064903  \n",
       "1                        0.002011                       0.266808  \n",
       "2                        0.009190                       0.618873  \n",
       "3                        0.010201                       1.142976  \n",
       "4                        0.008562                       1.938173  \n",
       "5                        0.016960                       2.954653  \n",
       "6                        0.024338                       3.636246  \n",
       "7                        0.035412                       4.889417  \n",
       "8                        0.044563                       5.405552  \n",
       "9                        0.047190                       6.862261  "
      ]
     },
     "execution_count": 32,
     "metadata": {},
     "output_type": "execute_result"
    }
   ],
   "source": [
    "data = {'Matrix dimension(n)' : range(10,101,10),\n",
    "        'Time taken by A . B (in sec)': time_for_AB_Prod_1,\n",
    "        'Time taken by A . B_T (in sec)': time_for_AB_transpose_Prod_1,\n",
    "        'Difference(A . B  - A . B_T )': [time_for_AB_Prod_1[i] - time_for_AB_transpose_Prod_1[i] for i in range(len(time_for_AB_Prod_1))]}\n",
    "\n",
    "df = pd.DataFrame(data)\n",
    "df"
   ]
  },
  {
   "cell_type": "markdown",
   "id": "da34489d-1e8f-4757-b204-24e9debfb0f3",
   "metadata": {},
   "source": [
    "### Result 3 : \n",
    "  From the above data (i.e.., mainly the column \"Difference\" ), \n",
    "      It is clearly visible that the dot product A . B_T (internally) is faster than that of A . B. \n",
    "      Therefore, we can conclude that an improvement in cache performance leads to it .\n",
    "### Reason : \n",
    "    By transposing matrix B, we change the memory access pattern to align with the row-major order of matrix storage. This reduces cache misses and improves performance, especially for large matrices where cache efficiency becomes critical."
   ]
  },
  {
   "cell_type": "markdown",
   "id": "7b907d69-6b1e-44d4-a47a-d30b5dbd250f",
   "metadata": {},
   "source": [
    "## <----------------------------- THE END -------------------------------->"
   ]
  },
  {
   "cell_type": "code",
   "execution_count": null,
   "id": "3142d22e-3220-49cc-b4a6-b4afc29c2dc1",
   "metadata": {},
   "outputs": [],
   "source": []
  }
 ],
 "metadata": {
  "kernelspec": {
   "display_name": "Python [conda env:base] *",
   "language": "python",
   "name": "conda-base-py"
  },
  "language_info": {
   "codemirror_mode": {
    "name": "ipython",
    "version": 3
   },
   "file_extension": ".py",
   "mimetype": "text/x-python",
   "name": "python",
   "nbconvert_exporter": "python",
   "pygments_lexer": "ipython3",
   "version": "3.12.7"
  }
 },
 "nbformat": 4,
 "nbformat_minor": 5
}
